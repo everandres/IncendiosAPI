{
 "cells": [
  {
   "cell_type": "code",
   "execution_count": 2,
   "id": "fdb65cf6",
   "metadata": {},
   "outputs": [],
   "source": [
    "import pandas as pd\n",
    "from sqlalchemy import create_engine"
   ]
  },
  {
   "cell_type": "code",
   "execution_count": 4,
   "id": "cb906202",
   "metadata": {},
   "outputs": [],
   "source": [
    "# Leer el archivo CSV\n",
    "df_incendios = pd.read_csv('probabilidad_icv.csv', sep=';', encoding='utf-8')"
   ]
  },
  {
   "cell_type": "code",
   "execution_count": 5,
   "id": "88592919",
   "metadata": {},
   "outputs": [],
   "source": [
    "# Crear una conexión a la base de datos\n",
    "usuario = 'postgres'\n",
    "contraseña = 'Septiembre0672'\n",
    "host = 'localhost'\n",
    "puerto = '5432'\n",
    "db = 'alertas'\n",
    "url_conexion = f'postgresql://{usuario}:{contraseña}@{host}:{puerto}/{db}'"
   ]
  },
  {
   "cell_type": "code",
   "execution_count": 6,
   "id": "2335258a",
   "metadata": {},
   "outputs": [],
   "source": [
    "engine = create_engine(url_conexion)"
   ]
  },
  {
   "cell_type": "code",
   "execution_count": 7,
   "id": "986e821f",
   "metadata": {},
   "outputs": [],
   "source": [
    "df_incendios.to_sql('incendios', con=engine, if_exists='replace', index=False)"
   ]
  },
  {
   "cell_type": "code",
   "execution_count": null,
   "id": "4b917ee2",
   "metadata": {},
   "outputs": [],
   "source": []
  }
 ],
 "metadata": {
  "kernelspec": {
   "display_name": "Python 3",
   "language": "python",
   "name": "python3"
  },
  "language_info": {
   "codemirror_mode": {
    "name": "ipython",
    "version": 3
   },
   "file_extension": ".py",
   "mimetype": "text/x-python",
   "name": "python",
   "nbconvert_exporter": "python",
   "pygments_lexer": "ipython3",
   "version": "3.8.8"
  }
 },
 "nbformat": 4,
 "nbformat_minor": 5
}
